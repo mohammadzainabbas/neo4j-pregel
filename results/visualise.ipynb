{
 "cells": [
  {
   "cell_type": "code",
   "execution_count": 35,
   "metadata": {},
   "outputs": [],
   "source": [
    "import numpy as np\n",
    "import pandas as pd\n",
    "import altair as alt"
   ]
  },
  {
   "cell_type": "code",
   "execution_count": 49,
   "metadata": {},
   "outputs": [
    {
     "data": {
      "text/html": [
       "\n",
       "<style>\n",
       "  #altair-viz-046d58efa5d443c3bcd670392e5b4e89.vega-embed {\n",
       "    width: 100%;\n",
       "    display: flex;\n",
       "  }\n",
       "\n",
       "  #altair-viz-046d58efa5d443c3bcd670392e5b4e89.vega-embed details,\n",
       "  #altair-viz-046d58efa5d443c3bcd670392e5b4e89.vega-embed details summary {\n",
       "    position: relative;\n",
       "  }\n",
       "</style>\n",
       "<div id=\"altair-viz-046d58efa5d443c3bcd670392e5b4e89\"></div>\n",
       "<script type=\"text/javascript\">\n",
       "  var VEGA_DEBUG = (typeof VEGA_DEBUG == \"undefined\") ? {} : VEGA_DEBUG;\n",
       "  (function(spec, embedOpt){\n",
       "    let outputDiv = document.currentScript.previousElementSibling;\n",
       "    if (outputDiv.id !== \"altair-viz-046d58efa5d443c3bcd670392e5b4e89\") {\n",
       "      outputDiv = document.getElementById(\"altair-viz-046d58efa5d443c3bcd670392e5b4e89\");\n",
       "    }\n",
       "    const paths = {\n",
       "      \"vega\": \"https://cdn.jsdelivr.net/npm/vega@5?noext\",\n",
       "      \"vega-lib\": \"https://cdn.jsdelivr.net/npm/vega-lib?noext\",\n",
       "      \"vega-lite\": \"https://cdn.jsdelivr.net/npm/vega-lite@5.8.0?noext\",\n",
       "      \"vega-embed\": \"https://cdn.jsdelivr.net/npm/vega-embed@6?noext\",\n",
       "    };\n",
       "\n",
       "    function maybeLoadScript(lib, version) {\n",
       "      var key = `${lib.replace(\"-\", \"\")}_version`;\n",
       "      return (VEGA_DEBUG[key] == version) ?\n",
       "        Promise.resolve(paths[lib]) :\n",
       "        new Promise(function(resolve, reject) {\n",
       "          var s = document.createElement('script');\n",
       "          document.getElementsByTagName(\"head\")[0].appendChild(s);\n",
       "          s.async = true;\n",
       "          s.onload = () => {\n",
       "            VEGA_DEBUG[key] = version;\n",
       "            return resolve(paths[lib]);\n",
       "          };\n",
       "          s.onerror = () => reject(`Error loading script: ${paths[lib]}`);\n",
       "          s.src = paths[lib];\n",
       "        });\n",
       "    }\n",
       "\n",
       "    function showError(err) {\n",
       "      outputDiv.innerHTML = `<div class=\"error\" style=\"color:red;\">${err}</div>`;\n",
       "      throw err;\n",
       "    }\n",
       "\n",
       "    function displayChart(vegaEmbed) {\n",
       "      vegaEmbed(outputDiv, spec, embedOpt)\n",
       "        .catch(err => showError(`Javascript Error: ${err.message}<br>This usually means there's a typo in your chart specification. See the javascript console for the full traceback.`));\n",
       "    }\n",
       "\n",
       "    if(typeof define === \"function\" && define.amd) {\n",
       "      requirejs.config({paths});\n",
       "      require([\"vega-embed\"], displayChart, err => showError(`Error loading script: ${err.message}`));\n",
       "    } else {\n",
       "      maybeLoadScript(\"vega\", \"5\")\n",
       "        .then(() => maybeLoadScript(\"vega-lite\", \"5.8.0\"))\n",
       "        .then(() => maybeLoadScript(\"vega-embed\", \"6\"))\n",
       "        .catch(showError)\n",
       "        .then(() => displayChart(vegaEmbed));\n",
       "    }\n",
       "  })({\"config\": {\"view\": {\"continuousWidth\": 300, \"continuousHeight\": 300}}, \"data\": {\"name\": \"data-a1d299b1656e4fc6d97c438d1fccbeb6\"}, \"mark\": {\"type\": \"point\"}, \"encoding\": {\"tooltip\": [{\"field\": \"iterations\", \"type\": \"quantitative\"}], \"x\": {\"field\": \"no_of_subgraphs\", \"title\": \"Number of subgraphs\", \"type\": \"quantitative\"}, \"y\": {\"field\": \"threshold\", \"title\": \"Threshold\", \"type\": \"quantitative\"}}, \"height\": 400, \"title\": \"Triangle - Ratio b/w threshold and number of sub-graphs\", \"width\": 600, \"$schema\": \"https://vega.github.io/schema/vega-lite/v5.8.0.json\", \"datasets\": {\"data-a1d299b1656e4fc6d97c438d1fccbeb6\": [{\"no_of_subgraphs\": 470, \"threshold\": 0.1, \"iterations\": 10}, {\"no_of_subgraphs\": 434, \"threshold\": 0.2, \"iterations\": 8}, {\"no_of_subgraphs\": 409, \"threshold\": 0.3, \"iterations\": 7}, {\"no_of_subgraphs\": 380, \"threshold\": 0.4, \"iterations\": 6}, {\"no_of_subgraphs\": 342, \"threshold\": 0.5, \"iterations\": 6}, {\"no_of_subgraphs\": 319, \"threshold\": 0.6, \"iterations\": 5}, {\"no_of_subgraphs\": 268, \"threshold\": 0.7, \"iterations\": 5}, {\"no_of_subgraphs\": 207, \"threshold\": 0.8, \"iterations\": 5}, {\"no_of_subgraphs\": 109, \"threshold\": 0.9, \"iterations\": 4}, {\"no_of_subgraphs\": 60, \"threshold\": 1.0, \"iterations\": 4}]}}, {\"mode\": \"vega-lite\"});\n",
       "</script>"
      ],
      "text/plain": [
       "alt.Chart(...)"
      ]
     },
     "execution_count": 49,
     "metadata": {},
     "output_type": "execute_result"
    }
   ],
   "source": [
    "df = pd.read_csv('triangle_threshold.csv')\n",
    "alt.Chart(df).mark_point().encode(\n",
    "    x=alt.X('no_of_subgraphs', title='Number of subgraphs'),\n",
    "    y=alt.Y('threshold', title='Threshold'),\n",
    "    tooltip=['iterations']\n",
    ").properties(\n",
    "    title='Triangle - Ratio b/w threshold and number of sub-graphs',\n",
    "    width=600,\n",
    "    height=400\n",
    ")"
   ]
  },
  {
   "cell_type": "code",
   "execution_count": null,
   "metadata": {},
   "outputs": [],
   "source": [
    "df = pd.read_csv('square_threshold.csv')\n",
    "# interpolate\n"
   ]
  }
 ],
 "metadata": {
  "kernelspec": {
   "display_name": "thesis",
   "language": "python",
   "name": "python3"
  },
  "language_info": {
   "codemirror_mode": {
    "name": "ipython",
    "version": 3
   },
   "file_extension": ".py",
   "mimetype": "text/x-python",
   "name": "python",
   "nbconvert_exporter": "python",
   "pygments_lexer": "ipython3",
   "version": "3.11.2"
  },
  "orig_nbformat": 4
 },
 "nbformat": 4,
 "nbformat_minor": 2
}
